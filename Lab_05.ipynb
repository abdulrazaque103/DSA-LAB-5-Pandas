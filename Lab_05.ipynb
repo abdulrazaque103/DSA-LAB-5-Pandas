{
  "nbformat": 4,
  "nbformat_minor": 0,
  "metadata": {
    "colab": {
      "provenance": [],
      "toc_visible": true,
      "authorship_tag": "ABX9TyMQxH1nMe3zeKugff104YHs",
      "include_colab_link": true
    },
    "kernelspec": {
      "name": "python3",
      "display_name": "Python 3"
    },
    "language_info": {
      "name": "python"
    }
  },
  "cells": [
    {
      "cell_type": "markdown",
      "metadata": {
        "id": "view-in-github",
        "colab_type": "text"
      },
      "source": [
        "<a href=\"https://colab.research.google.com/github/GhanshamSoomarani/Data-Science-Analytics/blob/main/20sw081(Lab_05).ipynb\" target=\"_parent\"><img src=\"https://colab.research.google.com/assets/colab-badge.svg\" alt=\"Open In Colab\"/></a>"
      ]
    },
    {
      "cell_type": "markdown",
      "source": [
        "\n",
        "Task 1"
      ],
      "metadata": {
        "id": "6KW8TyP-7q2w"
      }
    },
    {
      "cell_type": "code",
      "execution_count": null,
      "metadata": {
        "colab": {
          "base_uri": "https://localhost:8080/"
        },
        "id": "AMfZkGEU7mOt",
        "outputId": "07655747-6e98-475c-f9c5-c8fc95f3d444"
      },
      "outputs": [
        {
          "output_type": "stream",
          "name": "stdout",
          "text": [
            "Distance from Sun (10^6 km):\n",
            " Earth       149.6\n",
            "Saturn     1433.5\n",
            "Mars        227.9\n",
            "Venus       108.2\n",
            "Jupiter     778.6\n",
            "dtype: float64\n",
            "\n",
            "Time for sunlight to reach each planet (minutes):\n",
            " Earth       8.3\n",
            "Saturn     79.6\n",
            "Mars       12.7\n",
            "Venus       6.0\n",
            "Jupiter    43.3\n",
            "dtype: float64\n",
            "\n",
            "Planets where sunlight takes less than 40 minutes to reach:\n",
            " Earth    149.6\n",
            "Mars     227.9\n",
            "Venus    108.2\n",
            "dtype: float64\n"
          ]
        }
      ],
      "source": [
        "import pandas as pd\n",
        "distance_from_sun = [149.6, 1433.5, 227.9, 108.2, 778.6]\n",
        "planets = ['Earth', 'Saturn', 'Mars', 'Venus', 'Jupiter']\n",
        "dist_planets = pd.Series(distance_from_sun, index=planets)\n",
        "\n",
        "speed_of_light = 18  # Speed of light in 10^6 km/minute\n",
        "time_light = dist_planets / speed_of_light\n",
        "\n",
        "close_planets = dist_planets[time_light < 40]\n",
        "\n",
        "print(\"Distance from Sun (10^6 km):\\n\", dist_planets)\n",
        "print(\"\\nTime for sunlight to reach each planet (minutes):\\n\", time_light)\n",
        "print(\"\\nPlanets where sunlight takes less than 40 minutes to reach:\\n\", close_planets)\n"
      ]
    },
    {
      "cell_type": "markdown",
      "source": [
        "Task 2"
      ],
      "metadata": {
        "id": "TyyXo39k9nib"
      }
    },
    {
      "cell_type": "code",
      "source": [
        "import pandas as pd\n",
        "import numpy as np\n",
        "books = pd.Series(data=['Great Expectations', 'Of Mice and Men', 'Romeo and Juliet', 'The Time Machine', 'Alice in Wonderland'])\n",
        "authors = pd.Series(data=['Charles Dickens', 'John Steinbeck', 'William Shakespeare', 'H. G. Wells', 'Lewis Carroll'])\n",
        "user_1 = pd.Series(data=[3.2, np.nan, 2.5])\n",
        "user_2 = pd.Series(data=[5.0, 1.3, 4.0, 3.8])\n",
        "user_3 = pd.Series(data=[2.0, 2.3, np.nan, 4.0])\n",
        "user_4 = pd.Series(data=[4.0, 3.5, 4.0, 5.0, 4.2])\n",
        "\n",
        "dat = {\n",
        "    'Book Title': books,\n",
        "    'Author': authors,\n",
        "    'User 1': user_1,\n",
        "    'User 2': user_2,\n",
        "    'User 3': user_3,\n",
        "    'User 4': user_4\n",
        "}\n",
        "\n",
        "book_ratings = pd.DataFrame(dat)\n",
        "average_ratings = book_ratings.select_dtypes(include=[np.number]).mean()\n",
        "book_ratings.fillna(average_ratings, inplace=True)\n",
        "print(book_ratings)"
      ],
      "metadata": {
        "colab": {
          "base_uri": "https://localhost:8080/"
        },
        "id": "0zVgFaig8DRh",
        "outputId": "fa13d6f8-224e-4b2b-d1c8-0ac3ffeaa2a5"
      },
      "execution_count": null,
      "outputs": [
        {
          "output_type": "stream",
          "name": "stdout",
          "text": [
            "            Book Title               Author  User 1  User 2  User 3  User 4\n",
            "0   Great Expectations      Charles Dickens     3.2     5.0     2.0     4.0\n",
            "1      Of Mice and Men       John Steinbeck     2.9     1.3     2.3     3.5\n",
            "2     Romeo and Juliet  William Shakespeare     2.5     4.0     2.8     4.0\n",
            "3     The Time Machine          H. G. Wells     2.9     3.8     4.0     5.0\n",
            "4  Alice in Wonderland        Lewis Carroll     2.9     3.5     2.8     4.2\n"
          ]
        }
      ]
    },
    {
      "cell_type": "markdown",
      "source": [
        "Task 3"
      ],
      "metadata": {
        "id": "dBTQS4gC41fe"
      }
    },
    {
      "cell_type": "code",
      "source": [
        "#Follow the link to reach on task 3 its on my github\n",
        "https://github.com/GhanshamSoomarani/Data-Science-Analytics/blob/main/Statistics_from_Stock_Data(lab5_task_3).ipynb"
      ],
      "metadata": {
        "id": "PPp453aE-zA2"
      },
      "execution_count": null,
      "outputs": []
    },
    {
      "cell_type": "markdown",
      "source": [],
      "metadata": {
        "id": "u1ok8WoB7png"
      }
    }
  ]
}